import requests
import matplotlib.pyplot as plt
from datetime import datetime

# Replace with your actual API key
API_KEY = 'YOUR_API_KEY_HERE'
CITY = 'Chennai'
URL = f"http://api.openweathermap.org/data/2.5/forecast?q={CITY}&appid={API_KEY}&units=metric"

# Fetch weather forecast data
response = requests.get(URL)
data = response.json()

# Check if response is valid
if response.status_code != 200 or 'list' not in data:
    print("Failed to retrieve data. Check your API key or city name.")
    exit()

# Extract data: Date-Time, Temperature
dates = []
temperatures = []

for entry in data['list']:
    date_text = entry['dt_txt']
    temp = entry['main']['temp']
    
    dates.append(datetime.strptime(date_text, '%Y-%m-%d %H:%M:%S'))
    temperatures.append(temp)

# Plotting the data
plt.figure(figsize=(12, 6))
plt.plot(dates, temperatures, marker='o', linestyle='-', color='skyblue', label='Temperature (°C)')
plt.title(f"5-Day Weather Forecast for {CITY}")
plt.xlabel("Date & Time")
plt.ylabel("Temperature (°C)")
plt.grid(True)
plt.xticks(rotation=45)
plt.legend()
plt.tight_layout()
plt.show()
